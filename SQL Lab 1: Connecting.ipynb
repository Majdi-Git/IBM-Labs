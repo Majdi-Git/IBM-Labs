{
    "cells": [
        {
            "cell_type": "markdown",
            "metadata": {},
            "source": "<a href=\"https://www.bigdatauniversity.com\"><img src = \"https://ibm.box.com/shared/static/ugcqz6ohbvff804xp84y4kqnvvk3bq1g.png\" width = 300, align = \"center\"></a>\n\n<h1 align=center><font size = 5>Lab: Connect to Db2 database on Cloud using Python</font></h1>"
        },
        {
            "cell_type": "markdown",
            "metadata": {},
            "source": "# Introduction\n\nThis notebook illustrates how to access a DB2 database on Cloud using Python by following the steps below:\n1. Import the `ibm_db` Python library\n1. Enter the database connection credentials\n1. Create the database connection\n1. Close the database connection\n\n\n\n__Note:__ Please follow the instructions given in the first Lab of this course to Create a database service instance of Db2 on Cloud and retrieve your database Service Credentials.\n\n## Import the `ibm_db` Python library\n\nThe `ibm_db` [API ](https://pypi.python.org/pypi/ibm_db/) provides a variety of useful Python functions for accessing and manipulating data in an IBM\u00ae data server database, including functions for connecting to a database, preparing and issuing SQL statements, fetching rows from result sets, calling stored procedures, committing and rolling back transactions, handling errors, and retrieving metadata.\n\n\nWe first import the ibm_db library into our Python Application\n\nExecute the following cell by clicking within it and then \npress `Shift` and `Enter` keys simultaneously\n"
        },
        {
            "cell_type": "code",
            "execution_count": 5,
            "metadata": {
                "jupyter": {
                    "outputs_hidden": false
                }
            },
            "outputs": [],
            "source": "import ibm_db"
        },
        {
            "cell_type": "markdown",
            "metadata": {},
            "source": "When the command above completes, the `ibm_db` library is loaded in your notebook. \n\n\n## Identify the database connection credentials\n\nConnecting to dashDB or DB2 database requires the following information:\n* Driver Name\n* Database name \n* Host DNS name or IP address \n* Host port\n* Connection protocol\n* User ID (or username)\n* User Password\n\n\n\n__Notice:__ To obtain credentials please refer to the instructions given in the first Lab of this course\n\nNow enter your database credentials below and execute the cell with `Shift` + `Enter`\n"
        },
        {
            "cell_type": "code",
            "execution_count": 2,
            "metadata": {
                "jupyter": {
                    "outputs_hidden": false
                }
            },
            "outputs": [],
            "source": "#Replace the placeholder values with your actual Db2 hostname, username, and password:\ndsn_hostname = \"dashdb-txn-sbox-yp-dal09-11.services.dal.bluemix.net\" # e.g.: \"dashdb-txn-sbox-yp-dal09-04.services.dal.bluemix.net\"\ndsn_uid = \"skb01669\"        # e.g. \"abc12345\"\ndsn_pwd = \"pm5wl+s67jk4vd83\"      # e.g. \"7dBZ3wWt9XN6$o0J\"\n\ndsn_driver = \"{IBM DB2 ODBC DRIVER}\"\ndsn_database = \"BLUDB\"            # e.g. \"BLUDB\"\ndsn_port = \"50000\"                # e.g. \"50000\" \ndsn_protocol = \"TCPIP\"            # i.e. \"TCPIP\""
        },
        {
            "cell_type": "markdown",
            "metadata": {},
            "source": "## Create the DB2 database connection\n\nIbm_db API uses the IBM Data Server Driver for ODBC and CLI APIs to connect to IBM DB2 and Informix.\n\n\nLets build the dsn connection string using the credentials you entered above\n"
        },
        {
            "cell_type": "code",
            "execution_count": 3,
            "metadata": {
                "jupyter": {
                    "outputs_hidden": false
                }
            },
            "outputs": [
                {
                    "name": "stdout",
                    "output_type": "stream",
                    "text": "DRIVER={IBM DB2 ODBC DRIVER};DATABASE=BLUDB;HOSTNAME=dashdb-txn-sbox-yp-dal09-11.services.dal.bluemix.net;PORT=50000;PROTOCOL=TCPIP;UID=skb01669;PWD=pm5wl+s67jk4vd83;\n"
                }
            ],
            "source": "#DO NOT MODIFY THIS CELL. Just RUN it with Shift + Enter\n#Create the dsn connection string\ndsn = (\n    \"DRIVER={0};\"\n    \"DATABASE={1};\"\n    \"HOSTNAME={2};\"\n    \"PORT={3};\"\n    \"PROTOCOL={4};\"\n    \"UID={5};\"\n    \"PWD={6};\").format(dsn_driver, dsn_database, dsn_hostname, dsn_port, dsn_protocol, dsn_uid, dsn_pwd)\n\n#print the connection string to check correct values are specified\nprint(dsn)\n"
        },
        {
            "cell_type": "markdown",
            "metadata": {},
            "source": "Now establish the connection to the database"
        },
        {
            "cell_type": "code",
            "execution_count": 6,
            "metadata": {
                "jupyter": {
                    "outputs_hidden": false
                }
            },
            "outputs": [
                {
                    "name": "stdout",
                    "output_type": "stream",
                    "text": "Connected to database:  BLUDB as user:  skb01669 on host:  dashdb-txn-sbox-yp-dal09-11.services.dal.bluemix.net\n"
                }
            ],
            "source": "#DO NOT MODIFY THIS CELL. Just RUN it with Shift + Enter\n#Create database connection\n\ntry:\n    conn = ibm_db.pconnect(dsn, \"\", \"\")\n    print (\"Connected to database: \", dsn_database, \"as user: \", dsn_uid, \"on host: \", dsn_hostname)\n\nexcept:\n    print (\"Unable to connect: \", ibm_db.conn_errormsg() )\n"
        },
        {
            "cell_type": "markdown",
            "metadata": {},
            "source": "Congratulations if you were able to connect successfuly. Otherwise check the error and try again."
        },
        {
            "cell_type": "code",
            "execution_count": 7,
            "metadata": {
                "jupyter": {
                    "outputs_hidden": false
                }
            },
            "outputs": [
                {
                    "name": "stdout",
                    "output_type": "stream",
                    "text": "DBMS_NAME:  DB2/LINUXX8664\nDBMS_VER:   11.01.0404\nDB_NAME:    BLUDB\n"
                }
            ],
            "source": "#Retrieve Metadata for the Database Server\nserver = ibm_db.server_info(conn)\n\nprint (\"DBMS_NAME: \", server.DBMS_NAME)\nprint (\"DBMS_VER:  \", server.DBMS_VER)\nprint (\"DB_NAME:   \", server.DB_NAME)"
        },
        {
            "cell_type": "code",
            "execution_count": 8,
            "metadata": {
                "jupyter": {
                    "outputs_hidden": false
                }
            },
            "outputs": [
                {
                    "name": "stdout",
                    "output_type": "stream",
                    "text": "DRIVER_NAME:           libdb2.a\nDRIVER_VER:            11.01.0405\nDATA_SOURCE_NAME:      BLUDB\nDRIVER_ODBC_VER:       03.51\nODBC_VER:              03.01.0000\nODBC_SQL_CONFORMANCE:  EXTENDED\nAPPL_CODEPAGE:         1208\nCONN_CODEPAGE:         1208\n"
                }
            ],
            "source": "#Retrieve Metadata for the Database Client / Driver\nclient = ibm_db.client_info(conn)\n\nprint (\"DRIVER_NAME:          \", client.DRIVER_NAME) \nprint (\"DRIVER_VER:           \", client.DRIVER_VER)\nprint (\"DATA_SOURCE_NAME:     \", client.DATA_SOURCE_NAME)\nprint (\"DRIVER_ODBC_VER:      \", client.DRIVER_ODBC_VER)\nprint (\"ODBC_VER:             \", client.ODBC_VER)\nprint (\"ODBC_SQL_CONFORMANCE: \", client.ODBC_SQL_CONFORMANCE)\nprint (\"APPL_CODEPAGE:        \", client.APPL_CODEPAGE)\nprint (\"CONN_CODEPAGE:        \", client.CONN_CODEPAGE)"
        },
        {
            "cell_type": "markdown",
            "metadata": {},
            "source": "## Close the Connection\nWe free all resources by closing the connection. Remember that it is always important to close connections so that we can avoid unused connections taking up resources."
        },
        {
            "cell_type": "code",
            "execution_count": 9,
            "metadata": {
                "jupyter": {
                    "outputs_hidden": false
                }
            },
            "outputs": [],
            "source": "stmt = ibm_db.exec_immediate(conn, \"SELECT * from EMPLOYEES\")"
        },
        {
            "cell_type": "code",
            "execution_count": 10,
            "metadata": {},
            "outputs": [
                {
                    "data": {
                        "text/plain": "{'EMP_ID': 'E1001    ',\n 0: 'E1001    ',\n 'F_NAME': 'John',\n 1: 'John',\n 'L_NAME': 'Thomas',\n 2: 'Thomas',\n 'SSN': '123456   ',\n 3: '123456   ',\n 'B_DATE': datetime.date(1976, 1, 9),\n 4: datetime.date(1976, 1, 9),\n 'SEX': 'M',\n 5: 'M',\n 'ADDRESS': '5631 Rice, OakPark,IL',\n 6: '5631 Rice, OakPark,IL',\n 'JOB_ID': '100      ',\n 7: '100      ',\n 'SALARY': '100000.00',\n 8: '100000.00',\n 'MANAGER_ID': '30001    ',\n 9: '30001    ',\n 'DEP_ID': '2        ',\n 10: '2        '}"
                    },
                    "execution_count": 10,
                    "metadata": {},
                    "output_type": "execute_result"
                }
            ],
            "source": "ibm_db.fetch_both(stmt)"
        },
        {
            "cell_type": "code",
            "execution_count": 16,
            "metadata": {},
            "outputs": [],
            "source": "import pandas\nimport ibm_db_dbi\npconn = ibm_db_dbi.Connection(conn)"
        },
        {
            "cell_type": "code",
            "execution_count": 18,
            "metadata": {},
            "outputs": [],
            "source": "df = pandas.read_sql('select * from employees', pconn)"
        },
        {
            "cell_type": "code",
            "execution_count": 19,
            "metadata": {},
            "outputs": [
                {
                    "data": {
                        "text/html": "<div>\n<style scoped>\n    .dataframe tbody tr th:only-of-type {\n        vertical-align: middle;\n    }\n\n    .dataframe tbody tr th {\n        vertical-align: top;\n    }\n\n    .dataframe thead th {\n        text-align: right;\n    }\n</style>\n<table border=\"1\" class=\"dataframe\">\n  <thead>\n    <tr style=\"text-align: right;\">\n      <th></th>\n      <th>EMP_ID</th>\n      <th>F_NAME</th>\n      <th>L_NAME</th>\n      <th>SSN</th>\n      <th>B_DATE</th>\n      <th>SEX</th>\n      <th>ADDRESS</th>\n      <th>JOB_ID</th>\n      <th>SALARY</th>\n      <th>MANAGER_ID</th>\n      <th>DEP_ID</th>\n    </tr>\n  </thead>\n  <tbody>\n    <tr>\n      <th>0</th>\n      <td>E1001</td>\n      <td>John</td>\n      <td>Thomas</td>\n      <td>123456</td>\n      <td>1976-01-09</td>\n      <td>M</td>\n      <td>5631 Rice, OakPark,IL</td>\n      <td>100</td>\n      <td>100000.0</td>\n      <td>30001</td>\n      <td>2</td>\n    </tr>\n    <tr>\n      <th>1</th>\n      <td>E1002</td>\n      <td>Alice</td>\n      <td>James</td>\n      <td>123457</td>\n      <td>1972-07-31</td>\n      <td>F</td>\n      <td>980 Berry ln, Elgin,IL</td>\n      <td>200</td>\n      <td>80000.0</td>\n      <td>30002</td>\n      <td>5</td>\n    </tr>\n    <tr>\n      <th>2</th>\n      <td>E1003</td>\n      <td>Steve</td>\n      <td>Wells</td>\n      <td>123458</td>\n      <td>1980-08-10</td>\n      <td>M</td>\n      <td>291 Springs, Gary,IL</td>\n      <td>300</td>\n      <td>50000.0</td>\n      <td>30002</td>\n      <td>5</td>\n    </tr>\n    <tr>\n      <th>3</th>\n      <td>E1004</td>\n      <td>Santosh</td>\n      <td>Kumar</td>\n      <td>123459</td>\n      <td>1985-07-20</td>\n      <td>M</td>\n      <td>511 Aurora Av, Aurora,IL</td>\n      <td>400</td>\n      <td>60000.0</td>\n      <td>30004</td>\n      <td>5</td>\n    </tr>\n    <tr>\n      <th>4</th>\n      <td>E1005</td>\n      <td>Ahmed</td>\n      <td>Hussain</td>\n      <td>123410</td>\n      <td>1981-01-04</td>\n      <td>M</td>\n      <td>216 Oak Tree, Geneva,IL</td>\n      <td>500</td>\n      <td>70000.0</td>\n      <td>30001</td>\n      <td>2</td>\n    </tr>\n    <tr>\n      <th>5</th>\n      <td>E1006</td>\n      <td>Nancy</td>\n      <td>Allen</td>\n      <td>123411</td>\n      <td>1978-02-06</td>\n      <td>F</td>\n      <td>111 Green Pl, Elgin,IL</td>\n      <td>600</td>\n      <td>90000.0</td>\n      <td>30001</td>\n      <td>2</td>\n    </tr>\n    <tr>\n      <th>6</th>\n      <td>E1007</td>\n      <td>Mary</td>\n      <td>Thomas</td>\n      <td>123412</td>\n      <td>1975-05-05</td>\n      <td>F</td>\n      <td>100 Rose Pl, Gary,IL</td>\n      <td>650</td>\n      <td>65000.0</td>\n      <td>30003</td>\n      <td>7</td>\n    </tr>\n    <tr>\n      <th>7</th>\n      <td>E1008</td>\n      <td>Bharath</td>\n      <td>Gupta</td>\n      <td>123413</td>\n      <td>1985-05-06</td>\n      <td>M</td>\n      <td>145 Berry Ln, Naperville,IL</td>\n      <td>660</td>\n      <td>65000.0</td>\n      <td>30003</td>\n      <td>7</td>\n    </tr>\n    <tr>\n      <th>8</th>\n      <td>E1009</td>\n      <td>Andrea</td>\n      <td>Jones</td>\n      <td>123414</td>\n      <td>1990-07-09</td>\n      <td>F</td>\n      <td>120 Fall Creek, Gary,IL</td>\n      <td>234</td>\n      <td>70000.0</td>\n      <td>30003</td>\n      <td>7</td>\n    </tr>\n    <tr>\n      <th>9</th>\n      <td>E1010</td>\n      <td>Ann</td>\n      <td>Jacob</td>\n      <td>123415</td>\n      <td>1982-03-30</td>\n      <td>F</td>\n      <td>111 Britany Springs,Elgin,IL</td>\n      <td>220</td>\n      <td>70000.0</td>\n      <td>30004</td>\n      <td>5</td>\n    </tr>\n  </tbody>\n</table>\n</div>",
                        "text/plain": "      EMP_ID   F_NAME   L_NAME        SSN      B_DATE SEX  \\\n0  E1001         John   Thomas  123456     1976-01-09   M   \n1  E1002        Alice    James  123457     1972-07-31   F   \n2  E1003        Steve    Wells  123458     1980-08-10   M   \n3  E1004      Santosh    Kumar  123459     1985-07-20   M   \n4  E1005        Ahmed  Hussain  123410     1981-01-04   M   \n5  E1006        Nancy    Allen  123411     1978-02-06   F   \n6  E1007         Mary   Thomas  123412     1975-05-05   F   \n7  E1008      Bharath    Gupta  123413     1985-05-06   M   \n8  E1009       Andrea    Jones  123414     1990-07-09   F   \n9  E1010          Ann    Jacob  123415     1982-03-30   F   \n\n                        ADDRESS     JOB_ID    SALARY MANAGER_ID     DEP_ID  \n0         5631 Rice, OakPark,IL  100        100000.0  30001      2          \n1        980 Berry ln, Elgin,IL  200         80000.0  30002      5          \n2          291 Springs, Gary,IL  300         50000.0  30002      5          \n3      511 Aurora Av, Aurora,IL  400         60000.0  30004      5          \n4       216 Oak Tree, Geneva,IL  500         70000.0  30001      2          \n5        111 Green Pl, Elgin,IL  600         90000.0  30001      2          \n6          100 Rose Pl, Gary,IL  650         65000.0  30003      7          \n7   145 Berry Ln, Naperville,IL  660         65000.0  30003      7          \n8       120 Fall Creek, Gary,IL  234         70000.0  30003      7          \n9  111 Britany Springs,Elgin,IL  220         70000.0  30004      5          "
                    },
                    "execution_count": 19,
                    "metadata": {},
                    "output_type": "execute_result"
                }
            ],
            "source": "df"
        },
        {
            "cell_type": "code",
            "execution_count": 24,
            "metadata": {},
            "outputs": [],
            "source": "y=df.loc[0:2, 'F_NAME':'L_NAME']"
        },
        {
            "cell_type": "code",
            "execution_count": 25,
            "metadata": {},
            "outputs": [
                {
                    "data": {
                        "text/html": "<div>\n<style scoped>\n    .dataframe tbody tr th:only-of-type {\n        vertical-align: middle;\n    }\n\n    .dataframe tbody tr th {\n        vertical-align: top;\n    }\n\n    .dataframe thead th {\n        text-align: right;\n    }\n</style>\n<table border=\"1\" class=\"dataframe\">\n  <thead>\n    <tr style=\"text-align: right;\">\n      <th></th>\n      <th>F_NAME</th>\n      <th>L_NAME</th>\n    </tr>\n  </thead>\n  <tbody>\n    <tr>\n      <th>0</th>\n      <td>John</td>\n      <td>Thomas</td>\n    </tr>\n    <tr>\n      <th>1</th>\n      <td>Alice</td>\n      <td>James</td>\n    </tr>\n    <tr>\n      <th>2</th>\n      <td>Steve</td>\n      <td>Wells</td>\n    </tr>\n  </tbody>\n</table>\n</div>",
                        "text/plain": "  F_NAME  L_NAME\n0   John  Thomas\n1  Alice   James\n2  Steve   Wells"
                    },
                    "execution_count": 25,
                    "metadata": {},
                    "output_type": "execute_result"
                }
            ],
            "source": "y"
        },
        {
            "cell_type": "code",
            "execution_count": 26,
            "metadata": {},
            "outputs": [],
            "source": "z=df.iloc[0:2, 1:2]"
        },
        {
            "cell_type": "code",
            "execution_count": 27,
            "metadata": {},
            "outputs": [
                {
                    "data": {
                        "text/html": "<div>\n<style scoped>\n    .dataframe tbody tr th:only-of-type {\n        vertical-align: middle;\n    }\n\n    .dataframe tbody tr th {\n        vertical-align: top;\n    }\n\n    .dataframe thead th {\n        text-align: right;\n    }\n</style>\n<table border=\"1\" class=\"dataframe\">\n  <thead>\n    <tr style=\"text-align: right;\">\n      <th></th>\n      <th>F_NAME</th>\n    </tr>\n  </thead>\n  <tbody>\n    <tr>\n      <th>0</th>\n      <td>John</td>\n    </tr>\n    <tr>\n      <th>1</th>\n      <td>Alice</td>\n    </tr>\n  </tbody>\n</table>\n</div>",
                        "text/plain": "  F_NAME\n0   John\n1  Alice"
                    },
                    "execution_count": 27,
                    "metadata": {},
                    "output_type": "execute_result"
                }
            ],
            "source": "z"
        },
        {
            "cell_type": "code",
            "execution_count": 32,
            "metadata": {},
            "outputs": [
                {
                    "data": {
                        "text/plain": "array(['M', 'F'], dtype=object)"
                    },
                    "execution_count": 32,
                    "metadata": {},
                    "output_type": "execute_result"
                }
            ],
            "source": "df['SEX'].unique()"
        },
        {
            "cell_type": "code",
            "execution_count": 54,
            "metadata": {},
            "outputs": [],
            "source": "df1 = df[df['L_NAME']=='Thomas']"
        },
        {
            "cell_type": "code",
            "execution_count": 55,
            "metadata": {},
            "outputs": [
                {
                    "data": {
                        "text/html": "<div>\n<style scoped>\n    .dataframe tbody tr th:only-of-type {\n        vertical-align: middle;\n    }\n\n    .dataframe tbody tr th {\n        vertical-align: top;\n    }\n\n    .dataframe thead th {\n        text-align: right;\n    }\n</style>\n<table border=\"1\" class=\"dataframe\">\n  <thead>\n    <tr style=\"text-align: right;\">\n      <th></th>\n      <th>EMP_ID</th>\n      <th>F_NAME</th>\n      <th>L_NAME</th>\n      <th>SSN</th>\n      <th>B_DATE</th>\n      <th>SEX</th>\n      <th>ADDRESS</th>\n      <th>JOB_ID</th>\n      <th>SALARY</th>\n      <th>MANAGER_ID</th>\n      <th>DEP_ID</th>\n    </tr>\n  </thead>\n  <tbody>\n    <tr>\n      <th>0</th>\n      <td>E1001</td>\n      <td>John</td>\n      <td>Thomas</td>\n      <td>123456</td>\n      <td>1976-01-09</td>\n      <td>M</td>\n      <td>5631 Rice, OakPark,IL</td>\n      <td>100</td>\n      <td>100000.0</td>\n      <td>30001</td>\n      <td>5</td>\n    </tr>\n    <tr>\n      <th>6</th>\n      <td>E1007</td>\n      <td>Mary</td>\n      <td>Thomas</td>\n      <td>123412</td>\n      <td>1975-05-05</td>\n      <td>F</td>\n      <td>100 Rose Pl, Gary,IL</td>\n      <td>650</td>\n      <td>65000.0</td>\n      <td>30003</td>\n      <td>5</td>\n    </tr>\n  </tbody>\n</table>\n</div>",
                        "text/plain": "      EMP_ID F_NAME  L_NAME        SSN      B_DATE SEX                ADDRESS  \\\n0  E1001       John  Thomas  123456     1976-01-09   M  5631 Rice, OakPark,IL   \n6  E1007       Mary  Thomas  123412     1975-05-05   F   100 Rose Pl, Gary,IL   \n\n      JOB_ID    SALARY MANAGER_ID  DEP_ID  \n0  100        100000.0  30001           5  \n6  650         65000.0  30003           5  "
                    },
                    "execution_count": 55,
                    "metadata": {},
                    "output_type": "execute_result"
                }
            ],
            "source": "df1"
        },
        {
            "cell_type": "code",
            "execution_count": null,
            "metadata": {},
            "outputs": [],
            "source": ""
        }
    ],
    "metadata": {
        "kernelspec": {
            "display_name": "Python 3.6",
            "language": "python",
            "name": "python3"
        },
        "language_info": {
            "codemirror_mode": {
                "name": "ipython",
                "version": 3
            },
            "file_extension": ".py",
            "mimetype": "text/x-python",
            "name": "python",
            "nbconvert_exporter": "python",
            "pygments_lexer": "ipython3",
            "version": "3.6.9"
        },
        "widgets": {
            "state": {},
            "version": "1.1.2"
        }
    },
    "nbformat": 4,
    "nbformat_minor": 4
}